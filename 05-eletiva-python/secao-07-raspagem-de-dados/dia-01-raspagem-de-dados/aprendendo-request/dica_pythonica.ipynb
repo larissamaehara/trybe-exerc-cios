{
 "cells": [
  {
   "cell_type": "code",
   "execution_count": 3,
   "metadata": {},
   "outputs": [],
   "source": [
    "import random"
   ]
  },
  {
   "cell_type": "code",
   "execution_count": 4,
   "metadata": {},
   "outputs": [],
   "source": [
    "intrutores = ['Fabio', 'Lucas', 'Joao', 'Maria', 'Ana', 'Pedro', 'Paulo', 'Lucia', 'Marta', 'Carlos']\n",
    "idades = random.sample(range(20, 50), 10)"
   ]
  },
  {
   "cell_type": "code",
   "execution_count": 10,
   "metadata": {},
   "outputs": [
    {
     "name": "stdout",
     "output_type": "stream",
     "text": [
      "['Fabio', 'Lucas', 'Joao', 'Maria', 'Ana', 'Pedro', 'Paulo', 'Lucia', 'Marta', 'Carlos']\n",
      "[41, 38, 26, 39, 20, 32, 28, 31, 29, 48]\n",
      "{'Fabio': 41, 'Lucas': 38, 'Joao': 26, 'Maria': 39, 'Ana': 20, 'Pedro': 32, 'Paulo': 28, 'Lucia': 31, 'Marta': 29, 'Carlos': 48}\n"
     ]
    }
   ],
   "source": [
    "print(intrutores)\n",
    "print(idades)\n",
    "print(nome_idade)"
   ]
  },
  {
   "cell_type": "code",
   "execution_count": 11,
   "metadata": {},
   "outputs": [],
   "source": [
    "nome_idade = {}\n",
    "\n",
    "for pos in range(len(intrutores)):\n",
    "    nome_idade[intrutores[pos]] = idades[pos]"
   ]
  }
 ],
 "metadata": {
  "kernelspec": {
   "display_name": ".venv",
   "language": "python",
   "name": "python3"
  },
  "language_info": {
   "codemirror_mode": {
    "name": "ipython",
    "version": 3
   },
   "file_extension": ".py",
   "mimetype": "text/x-python",
   "name": "python",
   "nbconvert_exporter": "python",
   "pygments_lexer": "ipython3",
   "version": "3.10.12"
  }
 },
 "nbformat": 4,
 "nbformat_minor": 2
}
